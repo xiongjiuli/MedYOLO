{
 "cells": [
  {
   "cell_type": "markdown",
   "metadata": {},
   "source": [
    "### 这个是我们用来处理数据以致于可以被 MedYOLO 使用的，要满足以下的条件\n",
    "- 因为最后要被插值到（350，350，350）之间，所以我们使用mask先把纵隔区域之外的区域给mask掉\n",
    "- 然后spacing调整到（1，1，1）之间\n",
    "- 因为image之后会被从（x,y,z）调换到（z,y,x）, so labels的形式要是（class_number Z-Center X-Center Y-Center Z-Length X-Length Y-Length）\n",
    "- label的形式要是这个整体的分数数值，就是占比， eg（1 0.142 0.333 0.567 0.256 0.366 0.578）\n",
    "- 窗宽窗位也要自己调整到（-160, 240）之间"
   ]
  },
  {
   "cell_type": "code",
   "execution_count": null,
   "metadata": {},
   "outputs": [],
   "source": [
    "# code in /public_bme/data/xiongjl/medyolo_data/medyoloz_data_generate.py"
   ]
  },
  {
   "cell_type": "code",
   "execution_count": 2,
   "metadata": {},
   "outputs": [],
   "source": [
    "import os\n",
    "\n",
    "def modify_txt_files(directory):\n",
    "    # 获取目录下的所有文件\n",
    "    files = os.listdir(directory)\n",
    "    \n",
    "    for file_name in files:\n",
    "        # 检查文件是否为txt文件\n",
    "        if file_name.endswith('.txt'):\n",
    "            file_path = os.path.join(directory, file_name)\n",
    "            # 打开文件进行读取和修改\n",
    "            with open(file_path, 'r+') as file:\n",
    "                lines = file.readlines()\n",
    "                file.seek(0)\n",
    "                for line in lines:\n",
    "                    # 将每行第一个数字1替换为0\n",
    "                    line = line.strip()\n",
    "                    if line.startswith('1 '):\n",
    "                        line = line.replace('1 ', '0 ', 1)\n",
    "                    file.write(line + '\\n')\n",
    "                file.truncate()\n",
    "\n",
    "# 使用示例\n",
    "modify_txt_files('/public_bme/data/xiongjl/medyolo_data/labels/val')\n"
   ]
  }
 ],
 "metadata": {
  "kernelspec": {
   "display_name": "det",
   "language": "python",
   "name": "python3"
  },
  "language_info": {
   "codemirror_mode": {
    "name": "ipython",
    "version": 3
   },
   "file_extension": ".py",
   "mimetype": "text/x-python",
   "name": "python",
   "nbconvert_exporter": "python",
   "pygments_lexer": "ipython3",
   "version": "3.9.18"
  }
 },
 "nbformat": 4,
 "nbformat_minor": 2
}
